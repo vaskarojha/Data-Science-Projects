{
 "cells": [
  {
   "cell_type": "code",
   "execution_count": 1,
   "metadata": {},
   "outputs": [],
   "source": [
    "import numpy as np"
   ]
  },
  {
   "cell_type": "code",
   "execution_count": 14,
   "metadata": {},
   "outputs": [
    {
     "name": "stdout",
     "output_type": "stream",
     "text": [
      "1.21.3\n"
     ]
    }
   ],
   "source": [
    "print(np.__version__)"
   ]
  },
  {
   "cell_type": "code",
   "execution_count": 2,
   "metadata": {},
   "outputs": [],
   "source": [
    "import sys"
   ]
  },
  {
   "cell_type": "code",
   "execution_count": 5,
   "metadata": {},
   "outputs": [],
   "source": [
    "a= np.array([1,2,3], dtype='int8')\n",
    "b = np.array([[1,2,3,4,5], [5,6,7,8,9]])"
   ]
  },
  {
   "cell_type": "code",
   "execution_count": 8,
   "metadata": {},
   "outputs": [
    {
     "name": "stdout",
     "output_type": "stream",
     "text": [
      "Dimension of 'a': 1\n"
     ]
    }
   ],
   "source": [
    "print(\"Dimension of 'a':\", a.ndim)"
   ]
  },
  {
   "cell_type": "code",
   "execution_count": 10,
   "metadata": {},
   "outputs": [
    {
     "name": "stdout",
     "output_type": "stream",
     "text": [
      "Dimension of 'b' : 2\n"
     ]
    }
   ],
   "source": [
    "print(\"Dimension of 'b' :\", b.ndim)"
   ]
  },
  {
   "cell_type": "code",
   "execution_count": 11,
   "metadata": {},
   "outputs": [
    {
     "data": {
      "text/plain": [
       "(2, 5)"
      ]
     },
     "execution_count": 11,
     "metadata": {},
     "output_type": "execute_result"
    }
   ],
   "source": [
    "b.shape"
   ]
  },
  {
   "cell_type": "code",
   "execution_count": 12,
   "metadata": {},
   "outputs": [
    {
     "data": {
      "text/plain": [
       "4"
      ]
     },
     "execution_count": 12,
     "metadata": {},
     "output_type": "execute_result"
    }
   ],
   "source": [
    "b.itemsize"
   ]
  },
  {
   "cell_type": "code",
   "execution_count": 13,
   "metadata": {},
   "outputs": [
    {
     "data": {
      "text/plain": [
       "10"
      ]
     },
     "execution_count": 13,
     "metadata": {},
     "output_type": "execute_result"
    }
   ],
   "source": [
    "b.size"
   ]
  },
  {
   "cell_type": "code",
   "execution_count": 4,
   "metadata": {},
   "outputs": [
    {
     "data": {
      "text/plain": [
       "(2, 7)"
      ]
     },
     "execution_count": 4,
     "metadata": {},
     "output_type": "execute_result"
    }
   ],
   "source": [
    "c = np.array([[1,3,2,4,2,1,4], [5,3,2,8,9,6,4]])\n",
    "c.shape"
   ]
  },
  {
   "cell_type": "code",
   "execution_count": 5,
   "metadata": {},
   "outputs": [
    {
     "name": "stdout",
     "output_type": "stream",
     "text": [
      "[[1 3 2 4 2 1 4]\n",
      " [5 3 2 8 9 6 4]]\n"
     ]
    }
   ],
   "source": [
    "print(c)"
   ]
  },
  {
   "cell_type": "code",
   "execution_count": 6,
   "metadata": {},
   "outputs": [
    {
     "name": "stdout",
     "output_type": "stream",
     "text": [
      "[1 3 2 4 2 1 4]\n"
     ]
    }
   ],
   "source": [
    "print(c[0])"
   ]
  },
  {
   "cell_type": "code",
   "execution_count": 7,
   "metadata": {},
   "outputs": [
    {
     "name": "stdout",
     "output_type": "stream",
     "text": [
      "[2 4 2]\n"
     ]
    }
   ],
   "source": [
    "print(c[0][2:5])"
   ]
  },
  {
   "cell_type": "code",
   "execution_count": 8,
   "metadata": {},
   "outputs": [
    {
     "name": "stdout",
     "output_type": "stream",
     "text": [
      "[[1 3 2 4 2 1 4]\n",
      " [5 3 2 8 9 6 4]]\n"
     ]
    }
   ],
   "source": [
    "print(c[:])"
   ]
  },
  {
   "cell_type": "code",
   "execution_count": 9,
   "metadata": {},
   "outputs": [
    {
     "name": "stdout",
     "output_type": "stream",
     "text": [
      "[[1 3 2 4 2 1 4]\n",
      " [5 3 2 8 9 6 4]]\n"
     ]
    }
   ],
   "source": [
    "print(c[:][:])"
   ]
  },
  {
   "cell_type": "code",
   "execution_count": 10,
   "metadata": {},
   "outputs": [
    {
     "name": "stdout",
     "output_type": "stream",
     "text": [
      "[2 2]\n"
     ]
    }
   ],
   "source": [
    "print(c[:,2])"
   ]
  },
  {
   "cell_type": "code",
   "execution_count": 11,
   "metadata": {},
   "outputs": [
    {
     "name": "stdout",
     "output_type": "stream",
     "text": [
      "[3 4 1]\n"
     ]
    }
   ],
   "source": [
    "print(c[0, 1:-1:2])"
   ]
  },
  {
   "cell_type": "code",
   "execution_count": 12,
   "metadata": {},
   "outputs": [
    {
     "name": "stdout",
     "output_type": "stream",
     "text": [
      "3.0\n"
     ]
    }
   ],
   "source": [
    "array1 = np.array([1, 2, 3, 4, 5])\n",
    "                                                                                                           \n",
    "# median\n",
    "median = np.median(array1)\n",
    "\n",
    "print(median) "
   ]
  },
  {
   "cell_type": "code",
   "execution_count": 14,
   "metadata": {},
   "outputs": [
    {
     "name": "stdout",
     "output_type": "stream",
     "text": [
      "3.5\n"
     ]
    }
   ],
   "source": [
    "\n",
    "array1 = np.array([1, 2, 3, 4, 5, 7])\n",
    "\n",
    "# median\n",
    "median = np.median(array1)\n",
    "print(median) "
   ]
  },
  {
   "cell_type": "code",
   "execution_count": 15,
   "metadata": {},
   "outputs": [
    {
     "name": "stdout",
     "output_type": "stream",
     "text": [
      "Median along horizontal axis : [ 4. 10. 16.]\n",
      "Median along vertical axis: [ 8. 10. 12.]\n",
      "Median of entire array: 10.0\n"
     ]
    }
   ],
   "source": [
    "array1 = np.array([[2, 4, 6], \n",
    "                   [8, 10, 12], \n",
    "                   [14, 16, 18]])\n",
    "\n",
    "# median along horizontal axis \n",
    "result1 = np.median(array1, axis=1)\n",
    "\n",
    "print(\"Median along horizontal axis :\", result1)\n",
    "\n",
    "# median along vertical axis\n",
    "result2 = np.median(array1, axis=0)\n",
    "\n",
    "print(\"Median along vertical axis:\", result2)\n",
    "\n",
    "# median of entire array\n",
    "result3 = np.median(array1)\n",
    "\n",
    "print(\"Median of entire array:\", result3)"
   ]
  },
  {
   "cell_type": "code",
   "execution_count": 17,
   "metadata": {},
   "outputs": [
    {
     "name": "stdout",
     "output_type": "stream",
     "text": [
      "77.2\n"
     ]
    }
   ],
   "source": [
    "marks = np.array([76, 78, 81, 66, 85])\n",
    "\n",
    "mean_marks = np.mean(marks)\n",
    "\n",
    "print(mean_marks)"
   ]
  },
  {
   "cell_type": "code",
   "execution_count": 18,
   "metadata": {},
   "outputs": [
    {
     "name": "stdout",
     "output_type": "stream",
     "text": [
      "Entire Array: 4.0\n",
      "Along Vertical Axis: [3. 5.]\n",
      "Along Horizontal Axis : [2. 6.]\n"
     ]
    }
   ],
   "source": [
    "array1 = np.array([[1, 3], \n",
    "                 [5, 7]])\n",
    "\n",
    "result1 = np.mean(array1)\n",
    "print(\"Entire Array:\",result1)  # 4.0\n",
    "\n",
    "#  mean along vertical axis (axis=0)\n",
    "result2 = np.mean(array1, axis=0)\n",
    "print(\"Along Vertical Axis:\",result2)  # [3. 5.]\n",
    "\n",
    "#  mean along  (axis=1)\n",
    "result3 = np.mean(array1, axis=1)\n",
    "print(\"Along Horizontal Axis :\",result3)  # [2. 6.]"
   ]
  },
  {
   "cell_type": "code",
   "execution_count": 19,
   "metadata": {},
   "outputs": [
    {
     "name": "stdout",
     "output_type": "stream",
     "text": [
      "6.368673331236263\n"
     ]
    }
   ],
   "source": [
    "marks = np.array([76, 78, 81, 66, 85])\n",
    "\n",
    "std_marks = np.std(marks)\n",
    "print(std_marks)\n",
    "\n"
   ]
  },
  {
   "cell_type": "code",
   "execution_count": 20,
   "metadata": {},
   "outputs": [
    {
     "name": "stdout",
     "output_type": "stream",
     "text": [
      "Standard deviation along horizontal axis: [2.86744176 3.29983165 1.24721913]\n",
      "Standard deviation  along vertical axis: [0.81649658 1.24721913 1.63299316]\n",
      "Standard deviation of entire array: 2.7666443551086073\n"
     ]
    }
   ],
   "source": [
    "array1 = np.array([[2, 5, 9], \n",
    "                 [3, 8, 11], \n",
    "                 [4, 6, 7]])\n",
    "\n",
    "#standard deviation along horizontal axis\n",
    "result1 = np.std(array1, axis=1)\n",
    "print(\"Standard deviation along horizontal axis:\", result1)\n",
    "\n",
    "#standard deviation along vertical axis\n",
    "result2 = np.std(array1, axis=0)\n",
    "print(\"Standard deviation  along vertical axis:\", result2)\n",
    "\n",
    "#standard deviation of entire array\n",
    "result3 = np.std(array1)\n",
    "print(\"Standard deviation of entire array:\", result3)"
   ]
  },
  {
   "cell_type": "code",
   "execution_count": 21,
   "metadata": {},
   "outputs": [
    {
     "name": "stdout",
     "output_type": "stream",
     "text": [
      "25th percentile: 5.5\n",
      "75th percentile: 14.5\n"
     ]
    }
   ],
   "source": [
    "array1 = np.array([1, 3, 5, 7, 9, 11, 13, 15, 17, 19])\n",
    "\n",
    "# 25th percentile of the array\n",
    "result1 = np.percentile(array1, 25)\n",
    "print(\"25th percentile:\",result1)\n",
    "\n",
    "# 75th percentile of the array\n",
    "result2 = np.percentile(array1, 75)\n",
    "print(\"75th percentile:\",result2)"
   ]
  },
  {
   "cell_type": "code",
   "execution_count": 22,
   "metadata": {},
   "outputs": [
    {
     "name": "stdout",
     "output_type": "stream",
     "text": [
      "Minimum value: 1\n",
      "Maximum value: 65\n"
     ]
    }
   ],
   "source": [
    "array1 = np.array([2,6,9,15,17,22,65,1,62])\n",
    "\n",
    "min_val = np.min(array1)\n",
    "\n",
    "max_val = np.max(array1)\n",
    "\n",
    "print(\"Minimum value:\", min_val)\n",
    "print(\"Maximum value:\", max_val)"
   ]
  },
  {
   "cell_type": "code",
   "execution_count": 3,
   "metadata": {},
   "outputs": [
    {
     "name": "stdout",
     "output_type": "stream",
     "text": [
      "Date is: 2017-02-12\n",
      "Year is: 2017\n",
      "\n",
      "Dates of February, 2017:\n",
      " ['2017-02-01' '2017-02-02' '2017-02-03' '2017-02-04' '2017-02-05'\n",
      " '2017-02-06' '2017-02-07' '2017-02-08' '2017-02-09' '2017-02-10'\n",
      " '2017-02-11' '2017-02-12' '2017-02-13' '2017-02-14' '2017-02-15'\n",
      " '2017-02-16' '2017-02-17' '2017-02-18' '2017-02-19' '2017-02-20'\n",
      " '2017-02-21' '2017-02-22' '2017-02-23' '2017-02-24' '2017-02-25'\n",
      " '2017-02-26' '2017-02-27' '2017-02-28']\n",
      "Today is February: True\n",
      "\n",
      "No. of days: 365 days\n",
      "No. of weeks: 52 weeks\n",
      "\n",
      "Dates in sorted order: ['2016-10-13' '2017-02-12' '2019-05-22']\n"
     ]
    }
   ],
   "source": [
    "# creating a date \n",
    "today = np.datetime64('2017-02-12') \n",
    "print(\"Date is:\", today) \n",
    "print(\"Year is:\", np.datetime64(today, 'Y')) \n",
    "\n",
    "# creating array of dates in a month \n",
    "dates = np.arange('2017-02', '2017-03', dtype='datetime64[D]') \n",
    "print(\"\\nDates of February, 2017:\\n\", dates) \n",
    "print(\"Today is February:\", today in dates) \n",
    "\n",
    "# arithmetic operation on dates \n",
    "dur = np.datetime64('2017-05-22') - np.datetime64('2016-05-22') \n",
    "print(\"\\nNo. of days:\", dur) \n",
    "print(\"No. of weeks:\", np.timedelta64(dur, 'W')) \n",
    "\n",
    "# sorting dates \n",
    "a = np.array(['2017-02-12', '2016-10-13', '2019-05-22'], dtype='datetime64') \n",
    "print(\"\\nDates in sorted order:\", np.sort(a))\n"
   ]
  },
  {
   "cell_type": "code",
   "execution_count": 5,
   "metadata": {},
   "outputs": [
    {
     "name": "stdout",
     "output_type": "stream",
     "text": [
      "Rank of A: 3\n",
      "\n",
      "Trace of A: 11\n",
      "\n",
      "Determinant of A: -306.0\n",
      "\n",
      "Inverse of A:\n",
      " [[ 0.17647059 -0.00326797 -0.02287582]\n",
      " [ 0.05882353 -0.13071895  0.08496732]\n",
      " [-0.11764706  0.1503268   0.05228758]]\n",
      "\n",
      "Matrix A raised to power 3:\n",
      " [[336 162 228]\n",
      " [406 162 469]\n",
      " [698 702 905]]\n"
     ]
    }
   ],
   "source": [
    "A = np.array([[6, 1, 1], \n",
    "\t\t\t[4, -2, 5], \n",
    "\t\t\t[2, 8, 7]]) \n",
    "\n",
    "print(\"Rank of A:\", np.linalg.matrix_rank(A)) \n",
    "\n",
    "print(\"\\nTrace of A:\", np.trace(A)) \n",
    "\n",
    "print(\"\\nDeterminant of A:\", np.linalg.det(A)) \n",
    "\n",
    "print(\"\\nInverse of A:\\n\", np.linalg.inv(A)) \n",
    "\n",
    "print(\"\\nMatrix A raised to power 3:\\n\", np.linalg.matrix_power(A, 3))\n"
   ]
  },
  {
   "cell_type": "code",
   "execution_count": 6,
   "metadata": {},
   "outputs": [
    {
     "name": "stderr",
     "output_type": "stream",
     "text": [
      "C:\\Users\\hp\\AppData\\Local\\Temp/ipykernel_2748/33968656.py:10: FutureWarning: `rcond` parameter will change to the default of machine precision times ``max(M, N)`` where M and N are the input matrix dimensions.\n",
      "To use the future default and silence this warning we advise to pass `rcond=None`, to keep using the old, explicitly pass `rcond=-1`.\n",
      "  w = np.linalg.lstsq(A.T, y)[0]\n"
     ]
    },
    {
     "data": {
      "image/png": "[encoded data removed]",
      "text/plain": [
       "<Figure size 432x288 with 1 Axes>"
      ]
     },
     "metadata": {
      "needs_background": "light"
     },
     "output_type": "display_data"
    }
   ],
   "source": [
    "import matplotlib.pyplot as plt \n",
    "\n",
    "# x co-ordinates \n",
    "x = np.arange(0, 9) \n",
    "A = np.array([x, np.ones(9)]) \n",
    "\n",
    "# linearly generated sequence \n",
    "y = [19, 20, 20.5, 21.5, 22, 23, 23, 25.5, 24] \n",
    "# obtaining the parameters of regression line \n",
    "w = np.linalg.lstsq(A.T, y)[0] \n",
    "\n",
    "# plotting the line \n",
    "line = w[0]*x + w[1] # regression line \n",
    "plt.plot(x, line, 'r-') \n",
    "plt.plot(x, y, 'o') \n",
    "plt.show()\n"
   ]
  },
  {
   "cell_type": "code",
   "execution_count": null,
   "metadata": {},
   "outputs": [],
   "source": []
  }
 ],
 "metadata": {
  "kernelspec": {
   "display_name": "Python 3",
   "language": "python",
   "name": "python3"
  },
  "language_info": {
   "codemirror_mode": {
    "name": "ipython",
    "version": 3
   },
   "file_extension": ".py",
   "mimetype": "text/x-python",
   "name": "python",
   "nbconvert_exporter": "python",
   "pygments_lexer": "ipython3",
   "version": "3.9.7"
  }
 },
 "nbformat": 4,
 "nbformat_minor": 2
}
